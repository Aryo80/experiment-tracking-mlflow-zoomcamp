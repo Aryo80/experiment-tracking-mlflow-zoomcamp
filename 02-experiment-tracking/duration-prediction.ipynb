{
 "cells": [
  {
   "cell_type": "code",
   "execution_count": 1,
   "metadata": {},
   "outputs": [
    {
     "name": "stdout",
     "output_type": "stream",
     "text": [
      "Python 3.9.19\n"
     ]
    }
   ],
   "source": [
    "!python -V"
   ]
  },
  {
   "cell_type": "code",
   "execution_count": 2,
   "metadata": {},
   "outputs": [
    {
     "name": "stderr",
     "output_type": "stream",
     "text": [
      "Bad pipe message: %s [b'0.9,image/avif,image/webp,image/apng,*/*;q=0.8,application/signed-exchange;v=b3;q=0.7\\r\\nHost: localhost:34669\\r\\nUs', b'-Agent: Mozilla/5.0 (Windows NT 10.0; Win64; x64) AppleWebKit/537.36 (KHTML, like Gecko) Chrome/125.']\n",
      "Bad pipe message: %s [b'0.0 Safari/537.36 Edg/125.0.0.0\\r\\nAccept-Encodin']\n",
      "Bad pipe message: %s [b' gzip, deflate, br, zstd\\r\\nAccept-Language: en-US,en;q=0.9,en-CA;q=0.8\\r\\nCache-Control: max-age=0\\r\\nRefer']\n",
      "Bad pipe message: %s [b': https://symmetrical-orbit-4vq6v55vgv5h7g6p.github.dev/\\r\\nX-Request-ID: d038899a92289b064bf4f6540280']\n",
      "Bad pipe message: %s [b'9c\\r\\nX-Real-IP: 10.240.3.217\\r\\nX-Forwarded-Port: 44', b'\\nX-Forwarded-Scheme: https\\r\\nX-Original-URI: /\\r\\nX-S', b'eme: https\\r\\nsec-fetch-site: same-site\\r\\nsec-fetch-mode: navigate\\r\\nsec-fetch-dest: document\\r\\nsec-ch-']\n",
      "Bad pipe message: %s [b': \"Microsoft Edge\";v=\"125\", \"Chromium\";v=\"125\", \"Not.A/Brand\";v=\"24\"\\r\\nsec-ch-ua-mobile: ?0\\r\\nsec-ch-ua-platform: \"Win', b'ws\"\\r\\npriority: u=0, i\\r\\nX-Original-Proto: https\\r\\nCookie: ajs_anonymous_id=92d0bc5d-0de6-4fd5-bc66-82', b'9a85a010\\r\\nX-Forwarded-Proto: https\\r\\nX-Forwarded-Host', b'symmetrical-orbit-4vq6v55vgv5h7g6p-34669.app.github.dev\\r\\n']\n"
     ]
    }
   ],
   "source": [
    "import pickle\n",
    "import seaborn as sns\n",
    "import matplotlib.pyplot as plt\n",
    "from sklearn.feature_extraction import DictVectorizer\n",
    "from sklearn.linear_model import LinearRegression\n",
    "from sklearn.linear_model import Lasso\n",
    "from sklearn.linear_model import Ridge\n",
    "from sklearn.metrics import mean_squared_error"
   ]
  },
  {
   "cell_type": "code",
   "execution_count": 5,
   "metadata": {},
   "outputs": [
    {
     "data": {
      "text/plain": [
       "<Experiment: artifact_location='/workspaces/experiment-tracking-zoomcamp/02-experiment-tracking/mlruns/4', creation_time=1716259251562, experiment_id='4', last_update_time=1716259251562, lifecycle_stage='active', name='new-taxi-experiment', tags={}>"
      ]
     },
     "execution_count": 5,
     "metadata": {},
     "output_type": "execute_result"
    }
   ],
   "source": [
    "import mlflow\n",
    "mlflow.set_tracking_uri(\"sqlite:///mlflow.db\")\n",
    "\n",
    "mlflow.set_experiment(\"new-taxi-experiment\")"
   ]
  },
  {
   "cell_type": "code",
   "execution_count": 6,
   "metadata": {},
   "outputs": [
    {
     "name": "stdout",
     "output_type": "stream",
     "text": [
      "Run logged to experiment 'new-taxi-experiment'.\n"
     ]
    }
   ],
   "source": [
    "import mlflow\n",
    "\n",
    "# Set the tracking URI to the SQLite database\n",
    "mlflow.set_tracking_uri(\"sqlite:///mlflow.db\")\n",
    "\n",
    "# Set the experiment name\n",
    "mlflow.set_experiment(\"new-taxi-experiment\")\n",
    "\n",
    "# Start a new run\n",
    "with mlflow.start_run():\n",
    "    mlflow.log_param(\"param1\", 5)\n",
    "    mlflow.log_metric(\"metric1\", 0.85)\n",
    "    with open(\"output.txt\", \"w\") as f:\n",
    "        f.write(\"Hello, world!\")\n",
    "    mlflow.log_artifact(\"output.txt\")\n",
    "\n",
    "print(\"Run logged to experiment 'new-taxi-experiment'.\")\n"
   ]
  },
  {
   "cell_type": "code",
   "execution_count": 6,
   "metadata": {},
   "outputs": [
    {
     "name": "stdout",
     "output_type": "stream",
     "text": [
      "Experiment setup complete\n"
     ]
    }
   ],
   "source": [
    "import mlflow\n",
    "\n",
    "# Set the tracking URI to the SQLite database\n",
    "mlflow.set_tracking_uri(\"sqlite:///mlflow.db\")\n",
    "\n",
    "# Set the experiment name\n",
    "mlflow.set_experiment(\"new-taxi-experiment\")\n",
    "\n",
    "print(\"Experiment setup complete\")\n"
   ]
  },
  {
   "cell_type": "code",
   "execution_count": 7,
   "metadata": {},
   "outputs": [
    {
     "name": "stdout",
     "output_type": "stream",
     "text": [
      "Experiment details: <Experiment: artifact_location='/workspaces/experiment-tracking-zoomcamp/02-experiment-tracking/mlruns/4', creation_time=1716259251562, experiment_id='4', last_update_time=1716259251562, lifecycle_stage='active', name='new-taxi-experiment', tags={}>\n",
      "Run ID: 6236d7cac2fd4f1ea76b19f4029c3d36\n",
      "Run logged to experiment 'new-taxi-experiment'.\n"
     ]
    }
   ],
   "source": [
    "import mlflow\n",
    "\n",
    "# Set the tracking URI to the SQLite database\n",
    "mlflow.set_tracking_uri(\"sqlite:///mlflow.db\")\n",
    "\n",
    "# Set the experiment name\n",
    "experiment = mlflow.set_experiment(\"new-taxi-experiment\")\n",
    "print(f\"Experiment details: {experiment}\")\n",
    "\n",
    "# Start a new run\n",
    "with mlflow.start_run() as run:\n",
    "    mlflow.log_param(\"param1\", 5)\n",
    "    mlflow.log_metric(\"metric1\", 0.85)\n",
    "    with open(\"output.txt\", \"w\") as f:\n",
    "        f.write(\"Hello, world!\")\n",
    "    mlflow.log_artifact(\"output.txt\")\n",
    "    print(f\"Run ID: {run.info.run_id}\")\n",
    "\n",
    "print(\"Run logged to experiment 'new-taxi-experiment'.\")\n"
   ]
  },
  {
   "cell_type": "code",
   "execution_count": null,
   "metadata": {},
   "outputs": [],
   "source": []
  }
 ],
 "metadata": {
  "kernelspec": {
   "display_name": "exp-tracking-env",
   "language": "python",
   "name": "python3"
  },
  "language_info": {
   "codemirror_mode": {
    "name": "ipython",
    "version": 3
   },
   "file_extension": ".py",
   "mimetype": "text/x-python",
   "name": "python",
   "nbconvert_exporter": "python",
   "pygments_lexer": "ipython3",
   "version": "3.9.19"
  }
 },
 "nbformat": 4,
 "nbformat_minor": 2
}
