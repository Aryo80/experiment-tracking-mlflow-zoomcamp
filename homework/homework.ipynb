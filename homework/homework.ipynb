{
 "cells": [
  {
   "cell_type": "markdown",
   "metadata": {},
   "source": [
    "### Q2. Download and preprocess the data\n",
    "Download the data for January, February and March 2023 in parquet.\n",
    "\n",
    "url = https://www.nyc.gov/site/tlc/about/tlc-trip-record-data.page "
   ]
  },
  {
   "cell_type": "markdown",
   "metadata": {},
   "source": [
    "````python\n",
    "\n",
    "mkdir output\n",
    "mkdir TAXI_DATA_FOLDER\n",
    "cd TAXI_DATA_FOLDER\n",
    "\n",
    "wget \"https://d37ci6vzurychx.cloudfront.net/trip-data/green_tripdata_2023-01.parquet\"\n",
    "wget \"https://d37ci6vzurychx.cloudfront.net/trip-data/green_tripdata_2023-02.parquet\"\n",
    "wget \"https://d37ci6vzurychx.cloudfront.net/trip-data/green_tripdata_2023-03.parquet\"\n",
    "\n",
    "python preprocess_data.py --raw_data_path ./TAXI_DATA_FOLDER --dest_path ./output\n"
   ]
  },
  {
   "cell_type": "markdown",
   "metadata": {},
   "source": [
    "````python\n",
    "\n",
    "The Files inside the ./output:\n",
    "\n",
    "(exp-tracking-env) @Aryo80 ➜ /workspaces/experiment-tracking-mlflow-zoomcamp/homework (main) $ \n",
    "(exp-tracking-env) @Aryo80 ➜ /workspaces/experiment-tracking-mlflow-zoomcamp/homework (main) $ cd output\n",
    "(exp-tracking-env) @Aryo80 ➜ /workspaces/experiment-tracking-mlflow-zoomcamp/homework/output (main) $ ls\n",
    "dv.pkl  test.pkl  train.pkl  val.pkl"
   ]
  },
  {
   "cell_type": "markdown",
   "metadata": {},
   "source": [
    " ```python python -m mlflow ui --backend-store-uri sqlite:///mlflow.db --host 127.0.0.1 --port 8585\n"
   ]
  },
  {
   "cell_type": "markdown",
   "metadata": {},
   "source": [
    "```python\n",
    "(exp-tracking-env) @Aryo80 ➜ /workspaces/experiment-tracking-mlflow-zoomcamp/homework (main) $ python -m mlflow ui --backend-store-uri sqlite:///mlflow.db --host 127.0.0.1 --port 8585"
   ]
  },
  {
   "cell_type": "markdown",
   "metadata": {},
   "source": [
    "```python\n",
    "Experiment ID: 0\n",
    "Run ID: 454af58ffd044fa7a15f6131b1f3db5a\n",
    "Status: Finished\n",
    "Duration: 11.6 seconds\n",
    "Parameters:\n",
    "random_state: 0\n",
    "max_depth: 10\n",
    "Metrics:\n",
    "RMSE: 5.431162180141208"
   ]
  },
  {
   "cell_type": "code",
   "execution_count": 3,
   "metadata": {},
   "outputs": [],
   "source": []
  },
  {
   "cell_type": "markdown",
   "metadata": {},
   "source": []
  }
 ],
 "metadata": {
  "kernelspec": {
   "display_name": "exp-tracking-env",
   "language": "python",
   "name": "python3"
  },
  "language_info": {
   "codemirror_mode": {
    "name": "ipython",
    "version": 3
   },
   "file_extension": ".py",
   "mimetype": "text/x-python",
   "name": "python",
   "nbconvert_exporter": "python",
   "pygments_lexer": "ipython3",
   "version": "3.9.19"
  }
 },
 "nbformat": 4,
 "nbformat_minor": 2
}
